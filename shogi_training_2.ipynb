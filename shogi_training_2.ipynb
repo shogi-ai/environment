{
 "cells": [
  {
   "cell_type": "code",
   "execution_count": 12,
   "outputs": [],
   "source": [
    "import warnings\n",
    "\n",
    "warnings.filterwarnings(\"ignore\")"
   ],
   "metadata": {
    "collapsed": false,
    "ExecuteTime": {
     "end_time": "2024-05-23T08:59:55.732384200Z",
     "start_time": "2024-05-23T08:59:55.715393600Z"
    }
   }
  },
  {
   "cell_type": "code",
   "execution_count": 13,
   "metadata": {
    "ExecuteTime": {
     "end_time": "2024-05-23T08:59:55.741983400Z",
     "start_time": "2024-05-23T08:59:55.720834Z"
    }
   },
   "outputs": [],
   "source": [
    "from env import ShogiEnv\n",
    "import gymnasium as gym\n",
    "\n",
    "gym.register(id=\"Shogi-v0\", entry_point=\"env:ShogiEnv\", kwargs={})\n",
    "env: ShogiEnv = gym.make(\"Shogi-v0\")"
   ]
  },
  {
   "cell_type": "markdown",
   "metadata": {},
   "source": [
    "## Train the Agent"
   ]
  },
  {
   "cell_type": "code",
   "execution_count": 14,
   "outputs": [],
   "source": [
    "import pandas as pd\n",
    "import torch\n",
    "from model.shogi_agent import ShogiAgent\n",
    "import matplotlib.pyplot as plt"
   ],
   "metadata": {
    "collapsed": false,
    "ExecuteTime": {
     "end_time": "2024-05-23T08:59:55.741983400Z",
     "start_time": "2024-05-23T08:59:55.728122100Z"
    }
   }
  },
  {
   "cell_type": "code",
   "execution_count": 15,
   "metadata": {
    "ExecuteTime": {
     "end_time": "2024-05-23T08:59:55.763015700Z",
     "start_time": "2024-05-23T08:59:55.737358100Z"
    }
   },
   "outputs": [],
   "source": [
    "def Q_learning(agent: ShogiAgent, games_to_play: int):\n",
    "\n",
    "    loss = []\n",
    "    final_score = []\n",
    "    games = 0\n",
    "    steps = 0\n",
    "\n",
    "    # we play n games\n",
    "    while games < games_to_play:\n",
    "        print(f\"Game {games} of {games_to_play}\")\n",
    "        games += 1\n",
    "\n",
    "        board_score_after = 0\n",
    "        terminated = False\n",
    "        truncated = False\n",
    "\n",
    "        env.reset()\n",
    "\n",
    "        # until game is not finished\n",
    "        while not terminated and not truncated:\n",
    "            print(f\"Game: {games}. Move: {env.move}\")\n",
    "\n",
    "            steps += 1\n",
    "\n",
    "            # choose action, here the agent choose whether to explore or exploit\n",
    "            action_index, move, current_bit_state, valid_moves_tensor = (\n",
    "                agent.select_action(env)\n",
    "            )\n",
    "            valid_moves = torch.from_numpy(valid_moves_tensor.flatten())\n",
    "\n",
    "            next_bit_state, reward, terminated, truncated, _ = env.step(move)\n",
    "            board_score_after += reward\n",
    "\n",
    "            mask, _ = env.mask_and_valid_moves()\n",
    "            mask_tensor = torch.from_numpy(mask.flatten())\n",
    "\n",
    "            # store sample in memory\n",
    "            agent.remember(\n",
    "                agent.MAX_PRIORITY,\n",
    "                current_bit_state,\n",
    "                action_index,\n",
    "                reward,\n",
    "                next_bit_state[0],\n",
    "                (terminated or truncated),\n",
    "                valid_moves,\n",
    "                mask_tensor,\n",
    "            )\n",
    "\n",
    "            # train model and store loss\n",
    "            loss.append(agent.learn_experience_replay(debug=False))\n",
    "\n",
    "            # adjust epsilon (exploration rate)\n",
    "            agent.adaptiveEGreedy()\n",
    "\n",
    "        # save final game score\n",
    "        final_score.append(board_score_after)\n",
    "\n",
    "    # plot training results\n",
    "    score_df = pd.DataFrame(final_score, columns=[\"score\"])\n",
    "    score_df[\"ma\"] = score_df[\"score\"].rolling(window=games // 5).mean()\n",
    "    loss_df = pd.DataFrame(loss, columns=[\"loss\"])\n",
    "    loss_df[\"ma\"] = loss_df[\"loss\"].rolling(window=steps // 5).mean()\n",
    "\n",
    "    # Create a figure with two subplots\n",
    "    fig, (ax1, ax2) = plt.subplots(1, 2)\n",
    "\n",
    "    # Plot the score chart in the first subplot\n",
    "    ax1.plot(score_df.index, score_df[\"score\"], linewidth=0.2)\n",
    "    ax1.plot(score_df.index, score_df[\"ma\"])\n",
    "    ax1.set_title(\"Final score by game\")\n",
    "\n",
    "    # Plot the loss chart in the second subplot\n",
    "    ax2.plot(loss_df.index, loss_df[\"loss\"], linewidth=0.1)\n",
    "    ax2.plot(loss_df.index, loss_df[\"ma\"])\n",
    "    ax2.set_title(\"Loss by training step\")\n",
    "\n",
    "    # Show the plot\n",
    "    plt.show()"
   ]
  },
  {
   "cell_type": "code",
   "execution_count": null,
   "metadata": {
    "is_executing": true,
    "ExecuteTime": {
     "start_time": "2024-05-23T08:59:55.742983900Z"
    }
   },
   "outputs": [
    {
     "name": "stdout",
     "output_type": "stream",
     "text": [
      "Game 0 of 10\n",
      "Game: 1. Move: 0\n",
      "Game: 1. Move: 1\n",
      "Game: 1. Move: 2\n",
      "Game: 1. Move: 3\n",
      "Game: 1. Move: 4\n",
      "Game: 1. Move: 5\n",
      "Game: 1. Move: 6\n",
      "Game: 1. Move: 7\n",
      "Game: 1. Move: 8\n",
      "Game: 1. Move: 9\n",
      "Game: 1. Move: 10\n",
      "Game: 1. Move: 11\n",
      "Game: 1. Move: 12\n",
      "Game: 1. Move: 13\n",
      "Game: 1. Move: 14\n",
      "Game: 1. Move: 15\n",
      "Game: 1. Move: 16\n",
      "Game: 1. Move: 17\n",
      "Game: 1. Move: 18\n",
      "Game: 1. Move: 19\n",
      "Game: 1. Move: 20\n",
      "Game: 1. Move: 21\n",
      "Game: 1. Move: 22\n",
      "Game: 1. Move: 23\n",
      "Game: 1. Move: 24\n",
      "Game: 1. Move: 25\n",
      "Game: 1. Move: 26\n",
      "Game: 1. Move: 27\n",
      "Game: 1. Move: 28\n",
      "Game: 1. Move: 29\n",
      "Game: 1. Move: 30\n",
      "Game: 1. Move: 31\n",
      "Game: 1. Move: 32\n",
      "Game: 1. Move: 33\n",
      "Game: 1. Move: 34\n",
      "Game: 1. Move: 35\n",
      "Game: 1. Move: 36\n",
      "Game: 1. Move: 37\n",
      "Game: 1. Move: 38\n",
      "Game: 1. Move: 39\n",
      "Game: 1. Move: 40\n",
      "Game: 1. Move: 41\n",
      "Game: 1. Move: 42\n",
      "Game: 1. Move: 43\n",
      "Game: 1. Move: 44\n",
      "Game: 1. Move: 45\n",
      "Game: 1. Move: 46\n",
      "Game: 1. Move: 47\n",
      "Game: 1. Move: 48\n",
      "Game: 1. Move: 49\n",
      "Game: 1. Move: 50\n",
      "Game: 1. Move: 51\n",
      "Game: 1. Move: 52\n",
      "Game: 1. Move: 53\n",
      "Game: 1. Move: 54\n",
      "Game: 1. Move: 55\n",
      "Game: 1. Move: 56\n",
      "Game: 1. Move: 57\n",
      "Game: 1. Move: 58\n",
      "Game: 1. Move: 59\n",
      "Game: 1. Move: 60\n",
      "Game: 1. Move: 61\n",
      "Game: 1. Move: 62\n",
      "Game: 1. Move: 63\n",
      "Game: 1. Move: 64\n",
      "Game: 1. Move: 65\n",
      "Game: 1. Move: 66\n",
      "Game: 1. Move: 67\n",
      "Game: 1. Move: 68\n",
      "Game: 1. Move: 69\n",
      "Game: 1. Move: 70\n",
      "Game: 1. Move: 71\n",
      "Game: 1. Move: 72\n",
      "Game: 1. Move: 75\n",
      "Game: 1. Move: 76\n",
      "Game: 1. Move: 77\n",
      "Game: 1. Move: 78\n",
      "Game: 1. Move: 79\n",
      "Game: 1. Move: 80\n",
      "Game: 1. Move: 81\n",
      "Game: 1. Move: 82\n",
      "Game: 1. Move: 83\n",
      "Game: 1. Move: 84\n",
      "Game: 1. Move: 85\n",
      "Game: 1. Move: 86\n",
      "Game: 1. Move: 87\n",
      "Game: 1. Move: 88\n",
      "Game: 1. Move: 89\n",
      "Game: 1. Move: 90\n",
      "Game: 1. Move: 91\n",
      "Game: 1. Move: 92\n",
      "Game: 1. Move: 93\n",
      "Game: 1. Move: 94\n"
     ]
    }
   ],
   "source": [
    "agent = ShogiAgent()\n",
    "env.reset()\n",
    "\n",
    "Q_learning(agent, games_to_play=10)"
   ]
  },
  {
   "cell_type": "code",
   "execution_count": null,
   "metadata": {
    "is_executing": true
   },
   "outputs": [],
   "source": [
    "Q_learning(agent, games_to_play=20)"
   ]
  },
  {
   "cell_type": "code",
   "execution_count": null,
   "metadata": {
    "is_executing": true
   },
   "outputs": [],
   "source": [
    "agent.save_model(\"shogimodel/second_model.pth\")"
   ]
  }
 ],
 "metadata": {
  "kernelspec": {
   "display_name": "Python 3",
   "language": "python",
   "name": "python3"
  },
  "language_info": {
   "codemirror_mode": {
    "name": "ipython",
    "version": 3
   },
   "file_extension": ".py",
   "mimetype": "text/x-python",
   "name": "python",
   "nbconvert_exporter": "python",
   "pygments_lexer": "ipython3",
   "version": "3.11.5"
  }
 },
 "nbformat": 4,
 "nbformat_minor": 2
}
