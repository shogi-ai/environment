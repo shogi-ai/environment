{
 "cells": [
  {
   "cell_type": "code",
   "execution_count": null,
   "outputs": [],
   "source": [
    "from env import ShogiEnv\n",
    "from model.shogi_agent import ShogiAgent"
   ],
   "metadata": {
    "collapsed": false
   }
  },
  {
   "cell_type": "code",
   "execution_count": null,
   "outputs": [],
   "source": [
    "def play_game(environment: ShogiEnv, player: ShogiAgent) -> (float, bool, bool):\n",
    "    terminated = False\n",
    "    truncated = False\n",
    "    environment.reset()\n",
    "    agent.reset()\n",
    "    total_reward = 0\n",
    "\n",
    "    while not terminated and not truncated:\n",
    "        action_taken = player.select_action(environment)\n",
    "        bit_state, reward, terminated, truncated, _ = environment.step(action_taken)\n",
    "        player.adaptive_e_greedy()\n",
    "        total_reward += reward\n",
    "    return total_reward, terminated, truncated"
   ],
   "metadata": {
    "collapsed": false
   }
  },
  {
   "cell_type": "code",
   "execution_count": null,
   "outputs": [],
   "source": [
    "import time\n",
    "import warnings\n",
    "import gymnasium as gym\n",
    "\n",
    "warnings.filterwarnings(\"ignore\")\n",
    "\n",
    "gym.register(id=\"Shogi-v0\", entry_point=\"env:ShogiEnv\")\n",
    "env: ShogiEnv = gym.make(\"Shogi-v0\")\n",
    "agent = ShogiAgent()"
   ],
   "metadata": {
    "collapsed": false
   }
  },
  {
   "cell_type": "markdown",
   "metadata": {},
   "source": [
    "## Train the Agent"
   ]
  },
  {
   "cell_type": "code",
   "execution_count": null,
   "metadata": {},
   "outputs": [],
   "source": [
    "progress = []\n",
    "for i in range(100):\n",
    "    start = time.time()\n",
    "    _reward, _terminated, _truncated = play_game(env, agent)\n",
    "    end = time.time()\n",
    "    print(f\"{i}: {end - start}\")\n",
    "\n",
    "    progress.append(\n",
    "        {\n",
    "            \"reward\": _reward,\n",
    "            \"terminated\": _terminated,\n",
    "            \"truncated\": _truncated,\n",
    "            \"duration\": end - start,\n",
    "        }\n",
    "    )"
   ]
  }
 ],
 "metadata": {
  "kernelspec": {
   "display_name": "Python 3",
   "language": "python",
   "name": "python3"
  },
  "language_info": {
   "codemirror_mode": {
    "name": "ipython",
    "version": 3
   },
   "file_extension": ".py",
   "mimetype": "text/x-python",
   "name": "python",
   "nbconvert_exporter": "python",
   "pygments_lexer": "ipython3",
   "version": "3.11.5"
  }
 },
 "nbformat": 4,
 "nbformat_minor": 2
}
