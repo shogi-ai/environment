{
 "cells": [
  {
   "cell_type": "code",
   "execution_count": 1,
   "metadata": {
    "collapsed": false
   },
   "outputs": [],
   "source": [
    "import time\n",
    "import warnings\n",
    "import gymnasium as gym\n",
    "import pandas as pd\n",
    "import matplotlib.pyplot as plt\n",
    "\n",
    "from environment.env import ShogiEnv\n",
    "from agent.shogi_agent import ShogiAgent\n",
    "\n",
    "warnings.filterwarnings(\"ignore\")\n",
    "\n",
    "gym.register(id=\"Shogi-v0\", entry_point=\"environment.env:ShogiEnv\")\n",
    "env: ShogiEnv = gym.make(\"Shogi-v0\")\n",
    "agent = ShogiAgent()\n",
    "agent.get_model(\"models/shogi-agent.pth\")"
   ]
  },
  {
   "cell_type": "code",
   "execution_count": 40,
   "metadata": {},
   "outputs": [],
   "source": [
    "# import zipfile\n",
    "\n",
    "# # Compress the model_scripted.pt file\n",
    "# with zipfile.ZipFile('models/shogi-agent.zip', 'w', zipfile.ZIP_DEFLATED) as zipf:\n",
    "#     zipf.write('models/shogi-agent.pth')"
   ]
  },
  {
   "cell_type": "code",
   "execution_count": 15,
   "metadata": {},
   "outputs": [],
   "source": [
    "# import torch\n",
    "# import torch.nn as nn   \n",
    "# import gzip\n",
    "# import os\n",
    "\n",
    "# state_dict_path = 'models/test2.pth'\n",
    "\n",
    "# torch.save(agent.target_network.state_dict(), state_dict_path)\n",
    "\n",
    "# compressed_path = state_dict_path + '.gz'\n",
    "\n",
    "# with open(state_dict_path, 'rb') as f_in, gzip.open(compressed_path, 'wb') as f_out:\n",
    "#     f_out.writelines(f_in)\n",
    "\n",
    "# os.remove(state_dict_path)"
   ]
  },
  {
   "cell_type": "code",
   "execution_count": null,
   "metadata": {},
   "outputs": [],
   "source": [
    "# decompressed_path = state_dict_path\n",
    "# with gzip.open(compressed_path, 'rb') as f_in, open(decompressed_path, 'wb') as f_out:\n",
    "#     f_out.write(f_in.read())\n",
    "\n",
    "# model_loaded = agent.target_network()\n",
    "# model_loaded.load_state_dict(torch.load(decompressed_path))\n",
    "\n",
    "# os.remove(decompressed_path)"
   ]
  },
  {
   "cell_type": "code",
   "execution_count": 2,
   "metadata": {
    "collapsed": false
   },
   "outputs": [],
   "source": [
    "def play_game(environment: ShogiEnv, player: ShogiAgent) -> (float, bool, bool):\n",
    "    losses = []\n",
    "    rewards = []\n",
    "    terminated = False\n",
    "    truncated = False\n",
    "    state = environment.reset()\n",
    "    # agent.reset()\n",
    "\n",
    "    while not terminated and not truncated:\n",
    "        current_state = state\n",
    "\n",
    "        # Take action\n",
    "        current_state_valid_moves, _ = player.mask_and_valid_moves(environment)\n",
    "        action, mask_index = player.select_action(environment)\n",
    "        state, reward, terminated, truncated, _ = environment.step(action)\n",
    "        next_state_valid_moves, _ = player.mask_and_valid_moves(environment)\n",
    "\n",
    "        # Update the player\n",
    "        # player.adaptive_e_greedy()\n",
    "        player.remember(\n",
    "            1 + reward,\n",
    "            mask_index,\n",
    "            reward,\n",
    "            (terminated or truncated),\n",
    "            current_state,\n",
    "            current_state_valid_moves,\n",
    "            state,\n",
    "            next_state_valid_moves,\n",
    "        )\n",
    "        loss = player.train_model()\n",
    "\n",
    "        rewards.append(reward)\n",
    "        losses.append(loss)\n",
    "\n",
    "    return rewards, terminated, truncated, losses"
   ]
  },
  {
   "cell_type": "markdown",
   "metadata": {},
   "source": [
    "## Train the Agent"
   ]
  },
  {
   "cell_type": "code",
   "execution_count": 3,
   "metadata": {
    "collapsed": false
   },
   "outputs": [],
   "source": [
    "progress = []"
   ]
  },
  {
   "cell_type": "code",
   "execution_count": 4,
   "metadata": {},
   "outputs": [],
   "source": [
    "df = pd.read_csv(\"progress.csv\")\n",
    "\n",
    "for i in range(len(df)):\n",
    "    progress.append(\n",
    "        {\n",
    "            \"reward\": df[\"reward\"].values[i],\n",
    "            \"loss\": df[\"loss\"].values[i],\n",
    "            \"terminated\": df[\"terminated\"].values[i],\n",
    "            \"truncated\": df[\"truncated\"].values[i],\n",
    "            \"duration\": df[\"duration\"].values[i]\n",
    "        }\n",
    "    )"
   ]
  },
  {
   "cell_type": "code",
   "execution_count": 10,
   "metadata": {},
   "outputs": [
    {
     "name": "stdout",
     "output_type": "stream",
     "text": [
      "0: 515.6107864379883 seconds, 157.0 reward, 20572.46149109777 loss\n",
      "1: 550.711681842804 seconds, 112.0 reward, 5361.14400131478 loss\n",
      "2: 558.7493019104004 seconds, 80.0 reward, 5246.440423312069 loss\n",
      "3: 524.8143255710602 seconds, 52.0 reward, 4745.327249937559 loss\n",
      "4: 520.1503987312317 seconds, 134.0 reward, 5017.00521351294 loss\n",
      "5: 520.6419713497162 seconds, 88.0 reward, 6204.379465283672 loss\n",
      "6: 523.5610761642456 seconds, 153.0 reward, 5735.941230190724 loss\n",
      "7: 522.0793032646179 seconds, 123.0 reward, 7528.193781237591 loss\n",
      "8: 524.0713169574738 seconds, 116.0 reward, 7525.067184002772 loss\n",
      "9: 522.8660426139832 seconds, 124.0 reward, 6527.528456277358 loss\n",
      "10: 525.2950546741486 seconds, 160.0 reward, 6556.719591400643 loss\n"
     ]
    }
   ],
   "source": [
    "agent.reset()\n",
    "\n",
    "for i in range(11):\n",
    "    start = time.time()\n",
    "    reward_list, _terminated, _truncated, loss_list = play_game(env, agent)\n",
    "    # Update the agent\n",
    "    agent.adaptive_e_greedy()\n",
    "    end = time.time()\n",
    "    print(f\"{i}: {end - start} seconds, {sum(reward_list)} reward, {sum(loss_list)} loss\")\n",
    "\n",
    "    progress.append(\n",
    "        {\n",
    "            \"reward\": sum(reward_list),\n",
    "            \"loss\": sum(loss_list),\n",
    "            \"terminated\": _terminated,\n",
    "            \"truncated\": _truncated,\n",
    "            \"duration\": end - start,\n",
    "        }\n",
    "    )"
   ]
  },
  {
   "cell_type": "code",
   "execution_count": 13,
   "metadata": {
    "collapsed": false
   },
   "outputs": [
    {
     "data": {
      "image/png": "[encoded data removed]",
      "text/plain": [
       "<Figure size 640x480 with 2 Axes>"
      ]
     },
     "metadata": {},
     "output_type": "display_data"
    }
   ],
   "source": [
    "df = pd.DataFrame.from_records(progress)\n",
    "\n",
    "plot_df = df.tail(5)\n",
    "\n",
    "fig, (ax1, ax2) = plt.subplots(1, 2)\n",
    "\n",
    "ax1.plot(plot_df.index, plot_df[\"reward\"], linewidth=0.1)\n",
    "ax1.set_title(\"Total rewards by game\")\n",
    "\n",
    "ax2.plot(plot_df.index, plot_df[\"loss\"], linewidth=0.1)\n",
    "ax2.set_title(\"Total loss by game\")\n",
    "\n",
    "# Show the plot\n",
    "plt.show()"
   ]
  },
  {
   "cell_type": "code",
   "execution_count": 14,
   "metadata": {
    "collapsed": false
   },
   "outputs": [
    {
     "data": {
      "text/html": [
       "<div>\n",
       "<style scoped>\n",
       "    .dataframe tbody tr th:only-of-type {\n",
       "        vertical-align: middle;\n",
       "    }\n",
       "\n",
       "    .dataframe tbody tr th {\n",
       "        vertical-align: top;\n",
       "    }\n",
       "\n",
       "    .dataframe thead th {\n",
       "        text-align: right;\n",
       "    }\n",
       "</style>\n",
       "<table border=\"1\" class=\"dataframe\">\n",
       "  <thead>\n",
       "    <tr style=\"text-align: right;\">\n",
       "      <th></th>\n",
       "      <th>reward</th>\n",
       "      <th>loss</th>\n",
       "      <th>terminated</th>\n",
       "      <th>truncated</th>\n",
       "      <th>duration</th>\n",
       "    </tr>\n",
       "  </thead>\n",
       "  <tbody>\n",
       "    <tr>\n",
       "      <th>356</th>\n",
       "      <td>153.0</td>\n",
       "      <td>5735.941230</td>\n",
       "      <td>False</td>\n",
       "      <td>True</td>\n",
       "      <td>523.561076</td>\n",
       "    </tr>\n",
       "    <tr>\n",
       "      <th>357</th>\n",
       "      <td>123.0</td>\n",
       "      <td>7528.193781</td>\n",
       "      <td>False</td>\n",
       "      <td>True</td>\n",
       "      <td>522.079303</td>\n",
       "    </tr>\n",
       "    <tr>\n",
       "      <th>358</th>\n",
       "      <td>116.0</td>\n",
       "      <td>7525.067184</td>\n",
       "      <td>False</td>\n",
       "      <td>True</td>\n",
       "      <td>524.071317</td>\n",
       "    </tr>\n",
       "    <tr>\n",
       "      <th>359</th>\n",
       "      <td>124.0</td>\n",
       "      <td>6527.528456</td>\n",
       "      <td>False</td>\n",
       "      <td>True</td>\n",
       "      <td>522.866043</td>\n",
       "    </tr>\n",
       "    <tr>\n",
       "      <th>360</th>\n",
       "      <td>160.0</td>\n",
       "      <td>6556.719591</td>\n",
       "      <td>False</td>\n",
       "      <td>True</td>\n",
       "      <td>525.295055</td>\n",
       "    </tr>\n",
       "  </tbody>\n",
       "</table>\n",
       "</div>"
      ],
      "text/plain": [
       "     reward         loss  terminated  truncated    duration\n",
       "356   153.0  5735.941230       False       True  523.561076\n",
       "357   123.0  7528.193781       False       True  522.079303\n",
       "358   116.0  7525.067184       False       True  524.071317\n",
       "359   124.0  6527.528456       False       True  522.866043\n",
       "360   160.0  6556.719591       False       True  525.295055"
      ]
     },
     "execution_count": 14,
     "metadata": {},
     "output_type": "execute_result"
    }
   ],
   "source": [
    "df.tail(5)"
   ]
  },
  {
   "cell_type": "code",
   "execution_count": 15,
   "metadata": {},
   "outputs": [],
   "source": [
    "# from torch.nn.utils import prune\n",
    "# import torch\n",
    "\n",
    "# print(\"Before pruning\")\n",
    "# for param_tensor in agent.target_network.state_dict():\n",
    "#     print(param_tensor, \"\\t\", agent.target_network.state_dict()[param_tensor].size())"
   ]
  },
  {
   "cell_type": "code",
   "execution_count": 16,
   "metadata": {},
   "outputs": [],
   "source": [
    "# parameters_to_prune = (\n",
    "#     (agent.target_network.conv1, 'weight'),\n",
    "#     (agent.target_network.conv2, 'weight'),\n",
    "#     (agent.target_network.conv3, 'weight'),\n",
    "#     (agent.target_network.conv4, 'weight'),\n",
    "#     (agent.target_network.fc1, 'weight'),\n",
    "#     (agent.target_network.fc2, 'weight'),\n",
    "# )\n",
    "\n",
    "# prune.global_unstructured(\n",
    "#     parameters_to_prune,\n",
    "#     pruning_method=prune.L1Unstructured,\n",
    "#     amount=0.4,\n",
    "# )\n",
    "\n",
    "# print(\"After pruning\")\n",
    "# for param_tensor in agent.target_network.state_dict():\n",
    "#     print(param_tensor, \"\\t\", agent.target_network.state_dict()[param_tensor].size())\n",
    "\n",
    "# torch.save(agent.target_network.state_dict(), \"models/pruned_shogi-agent.pth\")"
   ]
  },
  {
   "cell_type": "code",
   "execution_count": 17,
   "metadata": {
    "collapsed": false
   },
   "outputs": [],
   "source": [
    "agent.save_model(\"models/shogi-agent.pth\")"
   ]
  },
  {
   "cell_type": "code",
   "execution_count": 18,
   "metadata": {},
   "outputs": [],
   "source": [
    "df.to_csv(\"progress.csv\", index=False)"
   ]
  },
  {
   "cell_type": "code",
   "execution_count": null,
   "metadata": {},
   "outputs": [],
   "source": []
  }
 ],
 "metadata": {
  "kernelspec": {
   "display_name": "Python 3",
   "language": "python",
   "name": "python3"
  },
  "language_info": {
   "codemirror_mode": {
    "name": "ipython",
    "version": 3
   },
   "file_extension": ".py",
   "mimetype": "text/x-python",
   "name": "python",
   "nbconvert_exporter": "python",
   "pygments_lexer": "ipython3",
   "version": "3.11.5"
  }
 },
 "nbformat": 4,
 "nbformat_minor": 2
}
