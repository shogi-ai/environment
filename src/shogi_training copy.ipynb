{
 "cells": [
  {
   "cell_type": "code",
   "execution_count": 2,
   "metadata": {
    "collapsed": false
   },
   "outputs": [],
   "source": [
    "import time\n",
    "import warnings\n",
    "import gymnasium as gym\n",
    "import pandas as pd\n",
    "import matplotlib.pyplot as plt\n",
    "\n",
    "from environment.env import ShogiEnv\n",
    "from agent.shogi_agent import ShogiAgent\n",
    "\n",
    "warnings.filterwarnings(\"ignore\")\n",
    "\n",
    "gym.register(id=\"Shogi-v0\", entry_point=\"environment.env:ShogiEnv\")\n",
    "env: ShogiEnv = gym.make(\"Shogi-v0\")\n",
    "agent = ShogiAgent()\n",
    "agent.get_model(\"models/shogi-agent.pth\")"
   ]
  },
  {
   "cell_type": "code",
   "execution_count": 92,
   "metadata": {},
   "outputs": [
    {
     "ename": "EngineError",
     "evalue": "cannot set UCI_Variant which is automatically managed",
     "output_type": "error",
     "traceback": [
      "\u001b[1;31m---------------------------------------------------------------------------\u001b[0m",
      "\u001b[1;31mEngineError\u001b[0m                               Traceback (most recent call last)",
      "Cell \u001b[1;32mIn[92], line 11\u001b[0m\n\u001b[0;32m      8\u001b[0m \u001b[38;5;66;03m# Initialize the Fairy-Stockfish engine\u001b[39;00m\n\u001b[0;32m      9\u001b[0m fairy_stockfish \u001b[38;5;241m=\u001b[39m chess\u001b[38;5;241m.\u001b[39mengine\u001b[38;5;241m.\u001b[39mSimpleEngine\u001b[38;5;241m.\u001b[39mpopen_uci(FAIRY_STOCKFISH_PATH)\n\u001b[1;32m---> 11\u001b[0m \u001b[43mfairy_stockfish\u001b[49m\u001b[38;5;241;43m.\u001b[39;49m\u001b[43mconfigure\u001b[49m\u001b[43m(\u001b[49m\u001b[43m{\u001b[49m\u001b[38;5;124;43m\"\u001b[39;49m\u001b[38;5;124;43mUCI_Variant\u001b[39;49m\u001b[38;5;124;43m\"\u001b[39;49m\u001b[43m:\u001b[49m\u001b[43m \u001b[49m\u001b[38;5;124;43m\"\u001b[39;49m\u001b[38;5;124;43mshogi\u001b[39;49m\u001b[38;5;124;43m\"\u001b[39;49m\u001b[43m}\u001b[49m\u001b[43m)\u001b[49m\n\u001b[0;32m     13\u001b[0m \u001b[38;5;66;03m# Set time limits for the engines\u001b[39;00m\n\u001b[0;32m     14\u001b[0m time_limit \u001b[38;5;241m=\u001b[39m chess\u001b[38;5;241m.\u001b[39mengine\u001b[38;5;241m.\u001b[39mLimit(time\u001b[38;5;241m=\u001b[39m\u001b[38;5;241m2.0\u001b[39m)\n",
      "File \u001b[1;32mc:\\Users\\airel\\OneDrive\\Documents\\Fontys\\S7\\Individual\\venv\\Lib\\site-packages\\chess\\engine.py:2960\u001b[0m, in \u001b[0;36mSimpleEngine.configure\u001b[1;34m(self, options)\u001b[0m\n\u001b[0;32m   2958\u001b[0m     coro \u001b[38;5;241m=\u001b[39m asyncio\u001b[38;5;241m.\u001b[39mwait_for(\u001b[38;5;28mself\u001b[39m\u001b[38;5;241m.\u001b[39mprotocol\u001b[38;5;241m.\u001b[39mconfigure(options), \u001b[38;5;28mself\u001b[39m\u001b[38;5;241m.\u001b[39mtimeout)\n\u001b[0;32m   2959\u001b[0m     future \u001b[38;5;241m=\u001b[39m asyncio\u001b[38;5;241m.\u001b[39mrun_coroutine_threadsafe(coro, \u001b[38;5;28mself\u001b[39m\u001b[38;5;241m.\u001b[39mprotocol\u001b[38;5;241m.\u001b[39mloop)\n\u001b[1;32m-> 2960\u001b[0m \u001b[38;5;28;01mreturn\u001b[39;00m \u001b[43mfuture\u001b[49m\u001b[38;5;241;43m.\u001b[39;49m\u001b[43mresult\u001b[49m\u001b[43m(\u001b[49m\u001b[43m)\u001b[49m\n",
      "File \u001b[1;32m~\\anaconda3\\Lib\\concurrent\\futures\\_base.py:456\u001b[0m, in \u001b[0;36mFuture.result\u001b[1;34m(self, timeout)\u001b[0m\n\u001b[0;32m    454\u001b[0m     \u001b[38;5;28;01mraise\u001b[39;00m CancelledError()\n\u001b[0;32m    455\u001b[0m \u001b[38;5;28;01melif\u001b[39;00m \u001b[38;5;28mself\u001b[39m\u001b[38;5;241m.\u001b[39m_state \u001b[38;5;241m==\u001b[39m FINISHED:\n\u001b[1;32m--> 456\u001b[0m     \u001b[38;5;28;01mreturn\u001b[39;00m \u001b[38;5;28;43mself\u001b[39;49m\u001b[38;5;241;43m.\u001b[39;49m\u001b[43m__get_result\u001b[49m\u001b[43m(\u001b[49m\u001b[43m)\u001b[49m\n\u001b[0;32m    457\u001b[0m \u001b[38;5;28;01melse\u001b[39;00m:\n\u001b[0;32m    458\u001b[0m     \u001b[38;5;28;01mraise\u001b[39;00m \u001b[38;5;167;01mTimeoutError\u001b[39;00m()\n",
      "File \u001b[1;32m~\\anaconda3\\Lib\\concurrent\\futures\\_base.py:401\u001b[0m, in \u001b[0;36mFuture.__get_result\u001b[1;34m(self)\u001b[0m\n\u001b[0;32m    399\u001b[0m \u001b[38;5;28;01mif\u001b[39;00m \u001b[38;5;28mself\u001b[39m\u001b[38;5;241m.\u001b[39m_exception:\n\u001b[0;32m    400\u001b[0m     \u001b[38;5;28;01mtry\u001b[39;00m:\n\u001b[1;32m--> 401\u001b[0m         \u001b[38;5;28;01mraise\u001b[39;00m \u001b[38;5;28mself\u001b[39m\u001b[38;5;241m.\u001b[39m_exception\n\u001b[0;32m    402\u001b[0m     \u001b[38;5;28;01mfinally\u001b[39;00m:\n\u001b[0;32m    403\u001b[0m         \u001b[38;5;66;03m# Break a reference cycle with the exception in self._exception\u001b[39;00m\n\u001b[0;32m    404\u001b[0m         \u001b[38;5;28mself\u001b[39m \u001b[38;5;241m=\u001b[39m \u001b[38;5;28;01mNone\u001b[39;00m\n",
      "File \u001b[1;32m~\\anaconda3\\Lib\\asyncio\\tasks.py:479\u001b[0m, in \u001b[0;36mwait_for\u001b[1;34m(fut, timeout)\u001b[0m\n\u001b[0;32m    476\u001b[0m         \u001b[38;5;28;01mraise\u001b[39;00m\n\u001b[0;32m    478\u001b[0m \u001b[38;5;28;01mif\u001b[39;00m fut\u001b[38;5;241m.\u001b[39mdone():\n\u001b[1;32m--> 479\u001b[0m     \u001b[38;5;28;01mreturn\u001b[39;00m fut\u001b[38;5;241m.\u001b[39mresult()\n\u001b[0;32m    480\u001b[0m \u001b[38;5;28;01melse\u001b[39;00m:\n\u001b[0;32m    481\u001b[0m     fut\u001b[38;5;241m.\u001b[39mremove_done_callback(cb)\n",
      "File \u001b[1;32mc:\\Users\\airel\\OneDrive\\Documents\\Fontys\\S7\\Individual\\venv\\Lib\\site-packages\\chess\\engine.py:1587\u001b[0m, in \u001b[0;36mUciProtocol.configure\u001b[1;34m(self, options)\u001b[0m\n\u001b[0;32m   1584\u001b[0m         \u001b[38;5;28mself\u001b[39m\u001b[38;5;241m.\u001b[39mresult\u001b[38;5;241m.\u001b[39mset_result(\u001b[38;5;28;01mNone\u001b[39;00m)\n\u001b[0;32m   1585\u001b[0m         \u001b[38;5;28mself\u001b[39m\u001b[38;5;241m.\u001b[39mset_finished()\n\u001b[1;32m-> 1587\u001b[0m \u001b[38;5;28;01mreturn\u001b[39;00m \u001b[38;5;28;01mawait\u001b[39;00m \u001b[38;5;28mself\u001b[39m\u001b[38;5;241m.\u001b[39mcommunicate(UciConfigureCommand)\n",
      "File \u001b[1;32mc:\\Users\\airel\\OneDrive\\Documents\\Fontys\\S7\\Individual\\venv\\Lib\\site-packages\\chess\\engine.py:1133\u001b[0m, in \u001b[0;36mProtocol.communicate\u001b[1;34m(self, command_factory)\u001b[0m\n\u001b[0;32m   1130\u001b[0m \u001b[38;5;28;01melif\u001b[39;00m \u001b[38;5;129;01mnot\u001b[39;00m \u001b[38;5;28mself\u001b[39m\u001b[38;5;241m.\u001b[39mcommand\u001b[38;5;241m.\u001b[39mresult\u001b[38;5;241m.\u001b[39mcancelled():\n\u001b[0;32m   1131\u001b[0m     \u001b[38;5;28mself\u001b[39m\u001b[38;5;241m.\u001b[39mcommand\u001b[38;5;241m.\u001b[39m_cancel(\u001b[38;5;28mself\u001b[39m)\n\u001b[1;32m-> 1133\u001b[0m \u001b[38;5;28;01mreturn\u001b[39;00m \u001b[38;5;28;01mawait\u001b[39;00m command\u001b[38;5;241m.\u001b[39mresult\n",
      "File \u001b[1;32mc:\\Users\\airel\\OneDrive\\Documents\\Fontys\\S7\\Individual\\venv\\Lib\\site-packages\\chess\\engine.py:1379\u001b[0m, in \u001b[0;36mBaseCommand._start\u001b[1;34m(self, engine)\u001b[0m\n\u001b[0;32m   1377\u001b[0m \u001b[38;5;28;01mtry\u001b[39;00m:\n\u001b[0;32m   1378\u001b[0m     \u001b[38;5;28mself\u001b[39m\u001b[38;5;241m.\u001b[39mcheck_initialized(engine)\n\u001b[1;32m-> 1379\u001b[0m     \u001b[38;5;28;43mself\u001b[39;49m\u001b[38;5;241;43m.\u001b[39;49m\u001b[43mstart\u001b[49m\u001b[43m(\u001b[49m\u001b[43mengine\u001b[49m\u001b[43m)\u001b[49m\n\u001b[0;32m   1380\u001b[0m \u001b[38;5;28;01mexcept\u001b[39;00m EngineError \u001b[38;5;28;01mas\u001b[39;00m err:\n\u001b[0;32m   1381\u001b[0m     \u001b[38;5;28mself\u001b[39m\u001b[38;5;241m.\u001b[39m_handle_exception(engine, err)\n",
      "File \u001b[1;32mc:\\Users\\airel\\OneDrive\\Documents\\Fontys\\S7\\Individual\\venv\\Lib\\site-packages\\chess\\engine.py:1582\u001b[0m, in \u001b[0;36mUciProtocol.configure.<locals>.UciConfigureCommand.start\u001b[1;34m(self, engine)\u001b[0m\n\u001b[0;32m   1581\u001b[0m \u001b[38;5;28;01mdef\u001b[39;00m \u001b[38;5;21mstart\u001b[39m(\u001b[38;5;28mself\u001b[39m, engine: UciProtocol) \u001b[38;5;241m-\u001b[39m\u001b[38;5;241m>\u001b[39m \u001b[38;5;28;01mNone\u001b[39;00m:\n\u001b[1;32m-> 1582\u001b[0m     \u001b[43mengine\u001b[49m\u001b[38;5;241;43m.\u001b[39;49m\u001b[43m_configure\u001b[49m\u001b[43m(\u001b[49m\u001b[43moptions\u001b[49m\u001b[43m)\u001b[49m\n\u001b[0;32m   1583\u001b[0m     engine\u001b[38;5;241m.\u001b[39mtarget_config\u001b[38;5;241m.\u001b[39mupdate({name: value \u001b[38;5;28;01mfor\u001b[39;00m name, value \u001b[38;5;129;01min\u001b[39;00m options\u001b[38;5;241m.\u001b[39mitems() \u001b[38;5;28;01mif\u001b[39;00m value \u001b[38;5;129;01mis\u001b[39;00m \u001b[38;5;129;01mnot\u001b[39;00m \u001b[38;5;28;01mNone\u001b[39;00m})\n\u001b[0;32m   1584\u001b[0m     \u001b[38;5;28mself\u001b[39m\u001b[38;5;241m.\u001b[39mresult\u001b[38;5;241m.\u001b[39mset_result(\u001b[38;5;28;01mNone\u001b[39;00m)\n",
      "File \u001b[1;32mc:\\Users\\airel\\OneDrive\\Documents\\Fontys\\S7\\Individual\\venv\\Lib\\site-packages\\chess\\engine.py:1576\u001b[0m, in \u001b[0;36mUciProtocol._configure\u001b[1;34m(self, options)\u001b[0m\n\u001b[0;32m   1574\u001b[0m \u001b[38;5;28;01mfor\u001b[39;00m name, value \u001b[38;5;129;01min\u001b[39;00m _chain_config(options, \u001b[38;5;28mself\u001b[39m\u001b[38;5;241m.\u001b[39mtarget_config):\n\u001b[0;32m   1575\u001b[0m     \u001b[38;5;28;01mif\u001b[39;00m name\u001b[38;5;241m.\u001b[39mlower() \u001b[38;5;129;01min\u001b[39;00m MANAGED_OPTIONS:\n\u001b[1;32m-> 1576\u001b[0m         \u001b[38;5;28;01mraise\u001b[39;00m EngineError(\u001b[38;5;124m\"\u001b[39m\u001b[38;5;124mcannot set \u001b[39m\u001b[38;5;132;01m{}\u001b[39;00m\u001b[38;5;124m which is automatically managed\u001b[39m\u001b[38;5;124m\"\u001b[39m\u001b[38;5;241m.\u001b[39mformat(name))\n\u001b[0;32m   1577\u001b[0m     \u001b[38;5;28mself\u001b[39m\u001b[38;5;241m.\u001b[39m_setoption(name, value)\n",
      "\u001b[1;31mEngineError\u001b[0m: cannot set UCI_Variant which is automatically managed"
     ]
    }
   ],
   "source": [
    "import chess\n",
    "import chess.engine\n",
    "import shogi\n",
    "\n",
    "# Define the path to the Fairy-Stockfish binary\n",
    "FAIRY_STOCKFISH_PATH = \"fairy-stockfish-largeboard_x86-64.exe\"\n",
    "\n",
    "# Initialize the Fairy-Stockfish engine\n",
    "fairy_stockfish = chess.engine.SimpleEngine.popen_uci(FAIRY_STOCKFISH_PATH)\n",
    "\n",
    "fairy_stockfish.configure({\"UCI_Variant\": \"shogi\"})\n",
    "\n",
    "# Set time limits for the engines\n",
    "time_limit = chess.engine.Limit(time=2.0)\n",
    "\n",
    "# Initialize the environment (assuming env is defined and reset correctly)\n",
    "env.reset()\n",
    "\n",
    "# Play a match\n",
    "while not env.board.is_game_over():\n",
    "    print(env.board)\n",
    "\n",
    "    # Fairy-Stockfish move\n",
    "    result = fairy_stockfish.play(env.board, time_limit)\n",
    "    env.board.push(result.move)\n",
    "    print(f\"Fairy-Stockfish plays: {result.move}\")\n",
    "\n",
    "    if env.board.is_game_over():\n",
    "        break\n",
    "\n",
    "    # Custom engine move\n",
    "    custom_engine_move = agent.select_best_action(env)\n",
    "    env.board.push(chess.Move.from_uci(str(custom_engine_move[0])))\n",
    "    print(f\"Custom engine plays: {custom_engine_move[0]}\")\n",
    "\n",
    "    if env.board.is_game_over():\n",
    "        break\n",
    "\n",
    "# Print the result\n",
    "result = env.board.result()\n",
    "print(\"Game over!\")\n",
    "print(\"Result:\", result)\n",
    "\n",
    "# Close the engines\n",
    "fairy_stockfish.quit()\n"
   ]
  },
  {
   "cell_type": "code",
   "execution_count": null,
   "metadata": {},
   "outputs": [],
   "source": []
  }
 ],
 "metadata": {
  "kernelspec": {
   "display_name": "Python 3",
   "language": "python",
   "name": "python3"
  },
  "language_info": {
   "codemirror_mode": {
    "name": "ipython",
    "version": 3
   },
   "file_extension": ".py",
   "mimetype": "text/x-python",
   "name": "python",
   "nbconvert_exporter": "python",
   "pygments_lexer": "ipython3",
   "version": "3.11.5"
  }
 },
 "nbformat": 4,
 "nbformat_minor": 2
}
